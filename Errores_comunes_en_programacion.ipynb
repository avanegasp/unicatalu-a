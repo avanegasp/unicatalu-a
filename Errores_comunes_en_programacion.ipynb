{
  "cells": [
    {
      "cell_type": "markdown",
      "metadata": {
        "id": "view-in-github",
        "colab_type": "text"
      },
      "source": [
        "<a href=\"https://colab.research.google.com/github/avanegasp/unicatalu-a/blob/gh-pages/Errores_comunes_en_programacion.ipynb\" target=\"_parent\"><img src=\"https://colab.research.google.com/assets/colab-badge.svg\" alt=\"Open In Colab\"/></a>"
      ]
    },
    {
      "cell_type": "markdown",
      "metadata": {
        "id": "mCkvKfAiO7q7"
      },
      "source": [
        "1. Errores de typo - escritura"
      ]
    },
    {
      "cell_type": "markdown",
      "metadata": {
        "id": "u3cQKdziiLBU"
      },
      "source": [
        "EOF : End of File\n",
        "\n",
        "Alcanzó el final sin ejecutar todos los bloques"
      ]
    },
    {
      "cell_type": "code",
      "execution_count": null,
      "metadata": {
        "colab": {
          "base_uri": "https://localhost:8080/",
          "height": 132
        },
        "id": "qHWsT7j9O7KI",
        "outputId": "5276d54a-0dae-4f64-eacd-49943e98da79"
      },
      "outputs": [
        {
          "ename": "SyntaxError",
          "evalue": "ignored",
          "output_type": "error",
          "traceback": [
            "\u001b[0;36m  File \u001b[0;32m\"<ipython-input-1-1c4867794d86>\"\u001b[0;36m, line \u001b[0;32m3\u001b[0m\n\u001b[0;31m    print(descuento\u001b[0m\n\u001b[0m                   ^\u001b[0m\n\u001b[0;31mSyntaxError\u001b[0m\u001b[0;31m:\u001b[0m unexpected EOF while parsing\n"
          ]
        }
      ],
      "source": [
        "descuento = 15\n",
        "\n",
        "print(descuento\n"
      ]
    },
    {
      "cell_type": "markdown",
      "metadata": {
        "id": "gqdENhS3d3TP"
      },
      "source": [
        "2. Cerrar parentésis, cerrar comillas"
      ]
    },
    {
      "cell_type": "code",
      "execution_count": null,
      "metadata": {
        "colab": {
          "base_uri": "https://localhost:8080/",
          "height": 132
        },
        "id": "UeTwbw3WfOif",
        "outputId": "bcf96195-45b4-44b7-aeb2-a6c0ae66bee6"
      },
      "outputs": [
        {
          "ename": "SyntaxError",
          "evalue": "ignored",
          "output_type": "error",
          "traceback": [
            "\u001b[0;36m  File \u001b[0;32m\"<ipython-input-2-b25c83881db4>\"\u001b[0;36m, line \u001b[0;32m1\u001b[0m\n\u001b[0;31m    numero = round(float(input('Ingrese un numero decimal: ))  ,2 )\u001b[0m\n\u001b[0m                                                                   ^\u001b[0m\n\u001b[0;31mSyntaxError\u001b[0m\u001b[0;31m:\u001b[0m EOL while scanning string literal\n"
          ]
        }
      ],
      "source": [
        "numero = round(float(input('Ingrese un numero decimal: ))  ,2 )"
      ]
    },
    {
      "cell_type": "markdown",
      "metadata": {
        "id": "6YLtic9kgi3Q"
      },
      "source": [
        "3. Parentesis o agrupación"
      ]
    },
    {
      "cell_type": "code",
      "execution_count": null,
      "metadata": {
        "colab": {
          "base_uri": "https://localhost:8080/",
          "height": 132
        },
        "id": "cbmFKRPve1xq",
        "outputId": "83ebb477-91e1-4735-b595-55a25ae40100"
      },
      "outputs": [
        {
          "ename": "SyntaxError",
          "evalue": "ignored",
          "output_type": "error",
          "traceback": [
            "\u001b[0;36m  File \u001b[0;32m\"<ipython-input-5-cc165b169bfc>\"\u001b[0;36m, line \u001b[0;32m1\u001b[0m\n\u001b[0;31m    a = np.array([1,2,3,4,5]\u001b[0m\n\u001b[0m                            ^\u001b[0m\n\u001b[0;31mSyntaxError\u001b[0m\u001b[0;31m:\u001b[0m unexpected EOF while parsing\n"
          ]
        }
      ],
      "source": [
        "a = np.array([1,2,3,4,5]"
      ]
    },
    {
      "cell_type": "markdown",
      "metadata": {
        "id": "z0AXRyybgntK"
      },
      "source": [
        "4. Orden de ejecución"
      ]
    },
    {
      "cell_type": "code",
      "source": [
        "casa + armario"
      ],
      "metadata": {
        "id": "QZLXJH3xS5kU"
      },
      "execution_count": null,
      "outputs": []
    },
    {
      "cell_type": "code",
      "source": [
        "casa = 54"
      ],
      "metadata": {
        "id": "essGAlfFS9aK"
      },
      "execution_count": null,
      "outputs": []
    },
    {
      "cell_type": "code",
      "source": [
        "armario"
      ],
      "metadata": {
        "id": "vMgKJzz2S-as"
      },
      "execution_count": null,
      "outputs": []
    },
    {
      "cell_type": "code",
      "execution_count": null,
      "metadata": {
        "colab": {
          "base_uri": "https://localhost:8080/"
        },
        "id": "yHRnsxz5gy0O",
        "outputId": "5e1d7d88-8da7-4a58-b8cc-1098d4232768"
      },
      "outputs": [
        {
          "data": {
            "text/plain": [
              "array([[1, 2, 3],\n",
              "       [4, 5, 6]])"
            ]
          },
          "execution_count": 19,
          "metadata": {
            "tags": []
          },
          "output_type": "execute_result"
        }
      ],
      "source": [
        "np.array([[1,2,3],[4,5,6]])"
      ]
    },
    {
      "cell_type": "code",
      "source": [
        "import numpy as np"
      ],
      "metadata": {
        "id": "BWFl1uHJS1t6"
      },
      "execution_count": null,
      "outputs": []
    },
    {
      "cell_type": "markdown",
      "metadata": {
        "id": "FnnFTKiGhYQr"
      },
      "source": [
        "5. Errores de indentación"
      ]
    },
    {
      "cell_type": "code",
      "execution_count": null,
      "metadata": {
        "colab": {
          "base_uri": "https://localhost:8080/"
        },
        "id": "5WvKgZxkhX4R",
        "outputId": "5a5450e5-ea28-41e9-e509-2a23b19d4ce7"
      },
      "outputs": [
        {
          "name": "stdout",
          "output_type": "stream",
          "text": [
            "1\n",
            "2\n",
            "Hola\n"
          ]
        }
      ],
      "source": [
        "a,b = 1,2\n",
        "  print(a)\n",
        "print(b)"
      ]
    },
    {
      "cell_type": "code",
      "execution_count": null,
      "metadata": {
        "id": "5YAj4UuIl7mO"
      },
      "outputs": [],
      "source": [
        "def f(x):\n",
        "return np.sin(x)\n",
        "print('Hola')\n"
      ]
    },
    {
      "cell_type": "markdown",
      "metadata": {
        "id": "B8IBdngghtGP"
      },
      "source": [
        "6. Errores en terminación de ejecución de un bloque"
      ]
    },
    {
      "cell_type": "code",
      "execution_count": null,
      "metadata": {
        "colab": {
          "base_uri": "https://localhost:8080/"
        },
        "id": "XJcT6vadQgFz",
        "outputId": "c14c015a-0443-4914-8643-ae8217b42dad"
      },
      "outputs": [
        {
          "name": "stdout",
          "output_type": "stream",
          "text": [
            "x es menor que y\n"
          ]
        }
      ],
      "source": [
        "x=0\n",
        "y=2\n",
        "\n",
        "if x > y:\n",
        "print('x es mayor que y')\n",
        "if x < y:\n",
        "  print('x es menor que y')\n",
        "else\n",
        "  print('x es igual que y')"
      ]
    },
    {
      "cell_type": "markdown",
      "metadata": {
        "id": "8bX4yOcZjPkP"
      },
      "source": [
        "7. Rango de 1 a 5"
      ]
    },
    {
      "cell_type": "code",
      "execution_count": null,
      "metadata": {
        "colab": {
          "base_uri": "https://localhost:8080/"
        },
        "id": "gpkw20yFmnUq",
        "outputId": "06f57d8d-c588-4099-81be-b36d90c3ab3e"
      },
      "outputs": [
        {
          "name": "stdout",
          "output_type": "stream",
          "text": [
            "0\n",
            "1\n",
            "2\n",
            "3\n",
            "4\n"
          ]
        }
      ],
      "source": [
        "for i in range (5):\n",
        "  print(i)"
      ]
    },
    {
      "cell_type": "markdown",
      "metadata": {
        "id": "KFIWvgc3o7sj"
      },
      "source": [
        "8. Index error"
      ]
    },
    {
      "cell_type": "code",
      "execution_count": null,
      "metadata": {
        "id": "g6WMYWjjo108"
      },
      "outputs": [],
      "source": [
        "lista = ['huevos', 'harina', 'levadura', 'pollo', 'tomate']"
      ]
    },
    {
      "cell_type": "code",
      "execution_count": null,
      "metadata": {
        "colab": {
          "base_uri": "https://localhost:8080/"
        },
        "id": "70aGuE6LXkcG",
        "outputId": "e4d95289-1b15-477b-9559-4fd786185e92"
      },
      "outputs": [
        {
          "name": "stdout",
          "output_type": "stream",
          "text": [
            "huevos\n",
            "harina\n",
            "levadura\n",
            "pollo\n",
            "tomate\n"
          ]
        }
      ],
      "source": [
        "for i in lista:\n",
        "  print(i)"
      ]
    },
    {
      "cell_type": "code",
      "execution_count": null,
      "metadata": {
        "colab": {
          "base_uri": "https://localhost:8080/",
          "height": 166
        },
        "id": "2RLh9UgBpOSb",
        "outputId": "ac760025-d9b5-48bb-8c3a-63bfc4b8c8f8"
      },
      "outputs": [
        {
          "ename": "IndexError",
          "evalue": "ignored",
          "output_type": "error",
          "traceback": [
            "\u001b[0;31m---------------------------------------------------------------------------\u001b[0m",
            "\u001b[0;31mIndexError\u001b[0m                                Traceback (most recent call last)",
            "\u001b[0;32m<ipython-input-56-00408833c594>\u001b[0m in \u001b[0;36m<module>\u001b[0;34m()\u001b[0m\n\u001b[0;32m----> 1\u001b[0;31m \u001b[0mlista\u001b[0m\u001b[0;34m[\u001b[0m\u001b[0;36m8\u001b[0m\u001b[0;34m]\u001b[0m\u001b[0;34m\u001b[0m\u001b[0;34m\u001b[0m\u001b[0m\n\u001b[0m",
            "\u001b[0;31mIndexError\u001b[0m: list index out of range"
          ]
        }
      ],
      "source": [
        "lista[8]"
      ]
    }
  ],
  "metadata": {
    "colab": {
      "provenance": [],
      "include_colab_link": true
    },
    "kernelspec": {
      "display_name": "Python 3",
      "name": "python3"
    },
    "language_info": {
      "name": "python"
    }
  },
  "nbformat": 4,
  "nbformat_minor": 0
}