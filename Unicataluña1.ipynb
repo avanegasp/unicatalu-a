{
  "nbformat": 4,
  "nbformat_minor": 0,
  "metadata": {
    "colab": {
      "provenance": [],
      "authorship_tag": "ABX9TyOpPOtZx0UocTLgT6fytn0R",
      "include_colab_link": true
    },
    "kernelspec": {
      "name": "python3",
      "display_name": "Python 3"
    },
    "language_info": {
      "name": "python"
    }
  },
  "cells": [
    {
      "cell_type": "markdown",
      "metadata": {
        "id": "view-in-github",
        "colab_type": "text"
      },
      "source": [
        "<a href=\"https://colab.research.google.com/github/avanegasp/unicatalu-a/blob/gh-pages/Unicatalu%C3%B1a1.ipynb\" target=\"_parent\"><img src=\"https://colab.research.google.com/assets/colab-badge.svg\" alt=\"Open In Colab\"/></a>"
      ]
    },
    {
      "cell_type": "code",
      "source": [
        "import numpy as np"
      ],
      "metadata": {
        "id": "CAUgZhmFdWWP"
      },
      "execution_count": null,
      "outputs": []
    },
    {
      "cell_type": "code",
      "source": [
        "nombre = input('Cuál es tu nombre:')\n",
        "edad = input('Cual es tu edad?:')\n",
        "\n",
        "print('Hola ' + nombre + ', tienes ' + str(edad) + ' años de edad')"
      ],
      "metadata": {
        "colab": {
          "base_uri": "https://localhost:8080/"
        },
        "id": "jECMTPmCfiGG",
        "outputId": "76081fe5-feb9-45b0-beb3-c05565352a7f"
      },
      "execution_count": null,
      "outputs": [
        {
          "output_type": "stream",
          "name": "stdout",
          "text": [
            "Cuál es tu nombre:Angie\n",
            "Cual es tu edad?:37\n",
            "Hola Angie, tienes37 años de edad\n"
          ]
        }
      ]
    },
    {
      "cell_type": "code",
      "execution_count": null,
      "metadata": {
        "id": "s9lyxoEKcqwP"
      },
      "outputs": [],
      "source": [
        "def mensaje():\n",
        "  print('Hola usuario, en qué puedo ayudarte?')"
      ]
    },
    {
      "cell_type": "code",
      "source": [
        "mensaje()"
      ],
      "metadata": {
        "colab": {
          "base_uri": "https://localhost:8080/"
        },
        "id": "LpaI-aaedKbx",
        "outputId": "f2cfebf9-9d2b-44f4-8d5a-ee91fd53fee0"
      },
      "execution_count": null,
      "outputs": [
        {
          "output_type": "stream",
          "name": "stdout",
          "text": [
            "Hola usuario, en qué puedo ayudarte?\n"
          ]
        }
      ]
    },
    {
      "cell_type": "code",
      "source": [
        "contador = 0\n",
        "\n",
        "while contador < 5:\n",
        "  print(contador)\n",
        "  contador +=1\n",
        "\n",
        "print('fuera de ciclo')"
      ],
      "metadata": {
        "colab": {
          "base_uri": "https://localhost:8080/"
        },
        "id": "OEvtlFdNqSYw",
        "outputId": "ef490891-6cff-4c28-fb24-1c11c6e797b3"
      },
      "execution_count": null,
      "outputs": [
        {
          "output_type": "stream",
          "name": "stdout",
          "text": [
            "0\n",
            "1\n",
            "2\n",
            "3\n",
            "4\n",
            "fuera de ciclo\n"
          ]
        }
      ]
    },
    {
      "cell_type": "code",
      "source": [
        "def repetir(cadena, n):\n",
        "  n = int(n)\n",
        "  print(str(cadena)*n)\n"
      ],
      "metadata": {
        "id": "4jJYFaiBqg69"
      },
      "execution_count": null,
      "outputs": []
    },
    {
      "cell_type": "code",
      "source": [
        "repetir('hola ', 5)"
      ],
      "metadata": {
        "colab": {
          "base_uri": "https://localhost:8080/"
        },
        "id": "XGSEDPi7qowI",
        "outputId": "f85b91b6-ae6d-4188-8957-973b74b493b9"
      },
      "execution_count": null,
      "outputs": [
        {
          "output_type": "stream",
          "name": "stdout",
          "text": [
            "hola hola hola hola hola \n"
          ]
        }
      ]
    },
    {
      "cell_type": "code",
      "source": [
        "for i in range(10,-1,-1):\n",
        "  print(i)"
      ],
      "metadata": {
        "colab": {
          "base_uri": "https://localhost:8080/"
        },
        "id": "NkN5WDvYqsEn",
        "outputId": "d6c2b000-525f-43b9-8ec3-f96749900171"
      },
      "execution_count": null,
      "outputs": [
        {
          "output_type": "stream",
          "name": "stdout",
          "text": [
            "10\n",
            "9\n",
            "8\n",
            "7\n",
            "6\n",
            "5\n",
            "4\n",
            "3\n",
            "2\n",
            "1\n",
            "0\n"
          ]
        }
      ]
    },
    {
      "cell_type": "code",
      "source": [
        "for i in range(10,-1,-1):\n",
        "  print(50 - i)"
      ],
      "metadata": {
        "colab": {
          "base_uri": "https://localhost:8080/"
        },
        "id": "t4Mcw6TDrPtS",
        "outputId": "719cac25-3dd1-4192-e307-96bd5c90b15a"
      },
      "execution_count": null,
      "outputs": [
        {
          "output_type": "stream",
          "name": "stdout",
          "text": [
            "40\n",
            "41\n",
            "42\n",
            "43\n",
            "44\n",
            "45\n",
            "46\n",
            "47\n",
            "48\n",
            "49\n",
            "50\n"
          ]
        }
      ]
    },
    {
      "cell_type": "code",
      "source": [
        "nombre = 'Harry Vargas'\n",
        "\n",
        "for i in nombre:\n",
        "  print(i)"
      ],
      "metadata": {
        "colab": {
          "base_uri": "https://localhost:8080/"
        },
        "id": "PcEzRyxTrfNW",
        "outputId": "8e291174-34b1-4b7f-bd75-c06aa44ce27b"
      },
      "execution_count": null,
      "outputs": [
        {
          "output_type": "stream",
          "name": "stdout",
          "text": [
            "H\n",
            "a\n",
            "r\n",
            "r\n",
            "y\n",
            " \n",
            "V\n",
            "a\n",
            "r\n",
            "g\n",
            "a\n",
            "s\n"
          ]
        }
      ]
    },
    {
      "cell_type": "code",
      "source": [],
      "metadata": {
        "id": "Kz5tF4QUrohO"
      },
      "execution_count": null,
      "outputs": []
    },
    {
      "cell_type": "markdown",
      "source": [
        "# Listas"
      ],
      "metadata": {
        "id": "lOhOAiR9rym2"
      }
    },
    {
      "cell_type": "code",
      "source": [
        "numeros = [4,5,6,7]"
      ],
      "metadata": {
        "id": "AVFRa1d-r1Fc"
      },
      "execution_count": null,
      "outputs": []
    },
    {
      "cell_type": "code",
      "source": [
        "type(numeros)"
      ],
      "metadata": {
        "colab": {
          "base_uri": "https://localhost:8080/"
        },
        "id": "WkVo_NyTr5F-",
        "outputId": "0459b865-75a6-49fa-ac3b-be75bd8c27b7"
      },
      "execution_count": null,
      "outputs": [
        {
          "output_type": "execute_result",
          "data": {
            "text/plain": [
              "list"
            ]
          },
          "metadata": {},
          "execution_count": 23
        }
      ]
    },
    {
      "cell_type": "code",
      "source": [
        "a = {54 / 7 *[27 / (4 + 3)]}\n",
        "round(float(a),3)"
      ],
      "metadata": {
        "colab": {
          "base_uri": "https://localhost:8080/",
          "height": 187
        },
        "id": "U8nEPY_yr6up",
        "outputId": "679fa2d9-1097-45b6-db2f-bd1ce44efc18"
      },
      "execution_count": null,
      "outputs": [
        {
          "output_type": "error",
          "ename": "TypeError",
          "evalue": "ignored",
          "traceback": [
            "\u001b[0;31m---------------------------------------------------------------------------\u001b[0m",
            "\u001b[0;31mTypeError\u001b[0m                                 Traceback (most recent call last)",
            "\u001b[0;32m<ipython-input-8-547acafe287a>\u001b[0m in \u001b[0;36m<cell line: 1>\u001b[0;34m()\u001b[0m\n\u001b[0;32m----> 1\u001b[0;31m \u001b[0ma\u001b[0m \u001b[0;34m=\u001b[0m \u001b[0;34m{\u001b[0m\u001b[0;36m54\u001b[0m \u001b[0;34m/\u001b[0m \u001b[0;36m7\u001b[0m \u001b[0;34m*\u001b[0m\u001b[0;34m[\u001b[0m\u001b[0;36m27\u001b[0m \u001b[0;34m/\u001b[0m \u001b[0;34m(\u001b[0m\u001b[0;36m4\u001b[0m \u001b[0;34m+\u001b[0m \u001b[0;36m3\u001b[0m\u001b[0;34m)\u001b[0m\u001b[0;34m]\u001b[0m\u001b[0;34m}\u001b[0m\u001b[0;34m\u001b[0m\u001b[0;34m\u001b[0m\u001b[0m\n\u001b[0m\u001b[1;32m      2\u001b[0m \u001b[0mround\u001b[0m\u001b[0;34m(\u001b[0m\u001b[0mfloat\u001b[0m\u001b[0;34m(\u001b[0m\u001b[0ma\u001b[0m\u001b[0;34m)\u001b[0m\u001b[0;34m,\u001b[0m\u001b[0;36m3\u001b[0m\u001b[0;34m)\u001b[0m\u001b[0;34m\u001b[0m\u001b[0;34m\u001b[0m\u001b[0m\n",
            "\u001b[0;31mTypeError\u001b[0m: can't multiply sequence by non-int of type 'float'"
          ]
        }
      ]
    },
    {
      "cell_type": "code",
      "source": [
        "def gato (a):\n",
        "  if a%2 == 1:\n",
        "    print('tigre')\n",
        "  elif a%2 == 0:\n",
        "    print('Pantera')\n",
        "  else:\n",
        "    print('leon')"
      ],
      "metadata": {
        "id": "95LohNEH46Yc"
      },
      "execution_count": null,
      "outputs": []
    },
    {
      "cell_type": "code",
      "source": [
        "gato(1)"
      ],
      "metadata": {
        "colab": {
          "base_uri": "https://localhost:8080/"
        },
        "id": "hw7KTdBZ5fYQ",
        "outputId": "f444a9de-c631-4b0a-f831-589f20dd9c2b"
      },
      "execution_count": null,
      "outputs": [
        {
          "output_type": "stream",
          "name": "stdout",
          "text": [
            "tigre\n"
          ]
        }
      ]
    },
    {
      "cell_type": "code",
      "source": [
        "MIVARIABLE='e'"
      ],
      "metadata": {
        "id": "ydyHs8jE56DF"
      },
      "execution_count": null,
      "outputs": []
    },
    {
      "cell_type": "code",
      "source": [
        "while contador < 25:\n",
        "  print(contador)\n",
        "  contador +=1"
      ],
      "metadata": {
        "colab": {
          "base_uri": "https://localhost:8080/"
        },
        "id": "EZw_d8zM82Uy",
        "outputId": "14b51ef3-13a4-44aa-850c-5324082ec87b"
      },
      "execution_count": null,
      "outputs": [
        {
          "output_type": "stream",
          "name": "stdout",
          "text": [
            "5\n",
            "6\n",
            "7\n",
            "8\n",
            "9\n",
            "10\n",
            "11\n",
            "12\n",
            "13\n",
            "14\n",
            "15\n",
            "16\n",
            "17\n",
            "18\n",
            "19\n",
            "20\n",
            "21\n",
            "22\n",
            "23\n",
            "24\n"
          ]
        }
      ]
    },
    {
      "cell_type": "code",
      "source": [
        "def gato (a):\n",
        "  if a%2 == 1:\n",
        "    print('tigre')\n",
        "  elif a%2 == 0:\n",
        "    print('Pantera')\n",
        "  else:\n",
        "    print('leon')"
      ],
      "metadata": {
        "id": "9RlnceXbi3C0"
      },
      "execution_count": null,
      "outputs": []
    },
    {
      "cell_type": "code",
      "source": [
        "def calificaciones():\n",
        "  try:\n",
        "    puntuacion = float(input('Escribe un número del 0.0 al 1.0 = '))\n",
        "    print(puntuacion)\n",
        "\n",
        "    if puntuacion >= 0.9:\n",
        "      print('sobresaliente')\n",
        "    elif puntuacion >= 0.8:\n",
        "      print('Notable')\n",
        "    elif puntuacion >= 0.7:\n",
        "      print('Bien')\n",
        "    elif puntuacion >= 0.6:\n",
        "      print('Suficiente')\n",
        "    elif puntuacion < 0.6:\n",
        "      print('Insuficiente')\n",
        "    else:\n",
        "      print('Incorrecta')\n",
        "  except ValueError:\n",
        "    print('incorrecta')"
      ],
      "metadata": {
        "id": "t4hCTMV-i6K0"
      },
      "execution_count": null,
      "outputs": []
    },
    {
      "cell_type": "code",
      "source": [
        "calificaciones()"
      ],
      "metadata": {
        "colab": {
          "base_uri": "https://localhost:8080/"
        },
        "id": "sAB42TU3mnSm",
        "outputId": "c5242b8f-3317-4fbc-eed6-7bd5cdf5612d"
      },
      "execution_count": null,
      "outputs": [
        {
          "output_type": "stream",
          "name": "stdout",
          "text": [
            "Escribe un número del 0.0 al 1.0 = 006\n",
            "6.0\n",
            "sobresaliente\n"
          ]
        }
      ]
    },
    {
      "cell_type": "code",
      "source": [
        "def salario():\n",
        "\n",
        "  pago = int(input('¿Cuántas son tus horas laboradas en la semana? = '))\n",
        "  print(pago)\n",
        "\n",
        "  if pago <= 40:\n",
        "    print('tu salario es de: ' + str(pago*15000) + ' pesos' )\n",
        "  else:\n",
        "    print('Tu pago con horaas extras es de: ' + str(pago*21000) + ' pesos')"
      ],
      "metadata": {
        "id": "7l7IS8N3nMU5"
      },
      "execution_count": null,
      "outputs": []
    },
    {
      "cell_type": "code",
      "source": [
        "salario()"
      ],
      "metadata": {
        "colab": {
          "base_uri": "https://localhost:8080/"
        },
        "id": "mq8-xPs_sDK8",
        "outputId": "87d870f5-2514-4272-d531-dd3c2dfc4aef"
      },
      "execution_count": null,
      "outputs": [
        {
          "output_type": "stream",
          "name": "stdout",
          "text": [
            "¿Cuántas son tus horas laboradas en la semana? = 48\n",
            "48\n",
            "Tu pago con horaas extras es de: 1008000 pesos\n"
          ]
        }
      ]
    },
    {
      "cell_type": "code",
      "source": [],
      "metadata": {
        "id": "stCXFcjesThk"
      },
      "execution_count": null,
      "outputs": []
    },
    {
      "cell_type": "markdown",
      "source": [
        "Escriba una función llamada collatz() que tenga un solo parámetro llamado número.\n",
        "\n",
        "Si número es par, collatz() debe imprimir número // 2 y retornar este valor.\n",
        "\n",
        "Si número es impar, collatz() debe imprimir y retornar 3 * número + 1 .\n",
        "\n",
        "Ahora escriba un programa que le pida al usuario un número entero, y que llame a la función collatz() tantas veces como sea necesario hasta que la salida sea 1. Tarde o temprano, para cualquier número entero la salida siempre será 1."
      ],
      "metadata": {
        "id": "RZ5k9Um_8agi"
      }
    },
    {
      "cell_type": "code",
      "source": [
        "def collatz(numero):\n",
        "  if numero % 2 == 0:\n",
        "    nuevo_numero = print(numero // 2)\n",
        "    return nuevo_numero\n",
        "  else:\n",
        "    nuevo_numero = print(3*numero+1)\n",
        "    return nuevo_numero"
      ],
      "metadata": {
        "id": "_niGL_Ao8buq"
      },
      "execution_count": null,
      "outputs": []
    },
    {
      "cell_type": "code",
      "source": [
        "collatz(221)"
      ],
      "metadata": {
        "colab": {
          "base_uri": "https://localhost:8080/"
        },
        "id": "EMFM8v2z9Jqv",
        "outputId": "0bd73106-7bbc-4435-954b-671a2f6355a6"
      },
      "execution_count": null,
      "outputs": [
        {
          "output_type": "stream",
          "name": "stdout",
          "text": [
            "664\n"
          ]
        }
      ]
    },
    {
      "cell_type": "code",
      "source": [
        "contador = 0\n",
        "\n",
        "while contador < 5:\n",
        "  print(contador)\n",
        "  contador +=1\n",
        "\n",
        "print('fuera de ciclo')\n"
      ],
      "metadata": {
        "colab": {
          "base_uri": "https://localhost:8080/"
        },
        "id": "2WppnMGx9LvE",
        "outputId": "f9a449bd-f5b4-453d-b520-1a5a20046b4c"
      },
      "execution_count": null,
      "outputs": [
        {
          "output_type": "stream",
          "name": "stdout",
          "text": [
            "0\n",
            "1\n",
            "2\n",
            "3\n",
            "4\n",
            "fuera de ciclo\n"
          ]
        }
      ]
    },
    {
      "cell_type": "code",
      "source": [
        "numero = int(input(\"Ingresa un número entero: \"))\n",
        "while numero != 1:\n",
        "  numero = collatz(numero)\n",
        "  print(numero)"
      ],
      "metadata": {
        "colab": {
          "base_uri": "https://localhost:8080/",
          "height": 401
        },
        "id": "feLzNB2g-9iB",
        "outputId": "ecf3c4a2-4a6c-430d-b3cc-95ebd745fdbb"
      },
      "execution_count": null,
      "outputs": [
        {
          "output_type": "stream",
          "name": "stdout",
          "text": [
            "Ingresa un número entero: 100\n",
            "50\n",
            "None\n"
          ]
        },
        {
          "output_type": "error",
          "ename": "TypeError",
          "evalue": "ignored",
          "traceback": [
            "\u001b[0;31m---------------------------------------------------------------------------\u001b[0m",
            "\u001b[0;31mTypeError\u001b[0m                                 Traceback (most recent call last)",
            "\u001b[0;32m<ipython-input-14-b701eb2a64a8>\u001b[0m in \u001b[0;36m<cell line: 2>\u001b[0;34m()\u001b[0m\n\u001b[1;32m      1\u001b[0m \u001b[0mnumero\u001b[0m \u001b[0;34m=\u001b[0m \u001b[0mint\u001b[0m\u001b[0;34m(\u001b[0m\u001b[0minput\u001b[0m\u001b[0;34m(\u001b[0m\u001b[0;34m\"Ingresa un número entero: \"\u001b[0m\u001b[0;34m)\u001b[0m\u001b[0;34m)\u001b[0m\u001b[0;34m\u001b[0m\u001b[0;34m\u001b[0m\u001b[0m\n\u001b[1;32m      2\u001b[0m \u001b[0;32mwhile\u001b[0m \u001b[0mnumero\u001b[0m \u001b[0;34m!=\u001b[0m \u001b[0;36m1\u001b[0m\u001b[0;34m:\u001b[0m\u001b[0;34m\u001b[0m\u001b[0;34m\u001b[0m\u001b[0m\n\u001b[0;32m----> 3\u001b[0;31m   \u001b[0mnumero\u001b[0m \u001b[0;34m=\u001b[0m \u001b[0mcollatz\u001b[0m\u001b[0;34m(\u001b[0m\u001b[0mnumero\u001b[0m\u001b[0;34m)\u001b[0m\u001b[0;34m\u001b[0m\u001b[0;34m\u001b[0m\u001b[0m\n\u001b[0m\u001b[1;32m      4\u001b[0m   \u001b[0mprint\u001b[0m\u001b[0;34m(\u001b[0m\u001b[0mnumero\u001b[0m\u001b[0;34m)\u001b[0m\u001b[0;34m\u001b[0m\u001b[0;34m\u001b[0m\u001b[0m\n",
            "\u001b[0;32m<ipython-input-6-b359e8727fad>\u001b[0m in \u001b[0;36mcollatz\u001b[0;34m(numero)\u001b[0m\n\u001b[1;32m      1\u001b[0m \u001b[0;32mdef\u001b[0m \u001b[0mcollatz\u001b[0m\u001b[0;34m(\u001b[0m\u001b[0mnumero\u001b[0m\u001b[0;34m)\u001b[0m\u001b[0;34m:\u001b[0m\u001b[0;34m\u001b[0m\u001b[0;34m\u001b[0m\u001b[0m\n\u001b[0;32m----> 2\u001b[0;31m   \u001b[0;32mif\u001b[0m \u001b[0mnumero\u001b[0m \u001b[0;34m%\u001b[0m \u001b[0;36m2\u001b[0m \u001b[0;34m==\u001b[0m \u001b[0;36m0\u001b[0m\u001b[0;34m:\u001b[0m\u001b[0;34m\u001b[0m\u001b[0;34m\u001b[0m\u001b[0m\n\u001b[0m\u001b[1;32m      3\u001b[0m     \u001b[0mnuevo_numero\u001b[0m \u001b[0;34m=\u001b[0m \u001b[0mprint\u001b[0m\u001b[0;34m(\u001b[0m\u001b[0mnumero\u001b[0m \u001b[0;34m//\u001b[0m \u001b[0;36m2\u001b[0m\u001b[0;34m)\u001b[0m\u001b[0;34m\u001b[0m\u001b[0;34m\u001b[0m\u001b[0m\n\u001b[1;32m      4\u001b[0m     \u001b[0;32mreturn\u001b[0m \u001b[0mnuevo_numero\u001b[0m\u001b[0;34m\u001b[0m\u001b[0;34m\u001b[0m\u001b[0m\n\u001b[1;32m      5\u001b[0m   \u001b[0;32melse\u001b[0m\u001b[0;34m:\u001b[0m\u001b[0;34m\u001b[0m\u001b[0;34m\u001b[0m\u001b[0m\n",
            "\u001b[0;31mTypeError\u001b[0m: unsupported operand type(s) for %: 'NoneType' and 'int'"
          ]
        }
      ]
    }
  ]
}